{
 "cells": [
  {
   "cell_type": "markdown",
   "id": "fdfd273b",
   "metadata": {},
   "source": [
    "# TSIS 3 - functions1\n",
    "Это **#3.1** лабораторная работа по предмету *\"Принципы Программирования 2\".*\n",
    "\n",
    "Студента: **Айбасов Даниал Елнарович**"
   ]
  },
  {
   "cell_type": "markdown",
   "id": "c91d434a",
   "metadata": {},
   "source": [
    "1. A recipe you are reading states how many grams you need for the ingredient. Unfortunately, your store only sells items in ounces. Create a function to convert grams to ounces."
   ]
  },
  {
   "cell_type": "code",
   "execution_count": 2,
   "id": "4a6d7152",
   "metadata": {},
   "outputs": [
    {
     "name": "stdout",
     "output_type": "stream",
     "text": [
      "566.990462\n"
     ]
    }
   ],
   "source": [
    "def gram_to_ounces(gram):\n",
    "    return 28.3495231 * gram\n",
    "\n",
    "print(gram_to_ounces(20))"
   ]
  },
  {
   "cell_type": "markdown",
   "id": "b24d6a6a",
   "metadata": {},
   "source": [
    "---"
   ]
  },
  {
   "cell_type": "markdown",
   "id": "91fdfd79",
   "metadata": {},
   "source": [
    "2. Read in a Fahrenheit temperature. Calculate and display the equivalent centigrade temperature. The following formula is used for the conversion:"
   ]
  },
  {
   "cell_type": "code",
   "execution_count": 3,
   "id": "bfc40ec0",
   "metadata": {},
   "outputs": [
    {
     "name": "stdout",
     "output_type": "stream",
     "text": [
      "2.5555555555555562\n"
     ]
    }
   ],
   "source": [
    "def f_to_can(f):\n",
    "    return (5/9)*(f-32)\n",
    "\n",
    "print(f_to_can(36.6))"
   ]
  },
  {
   "cell_type": "markdown",
   "id": "bf52e540",
   "metadata": {},
   "source": [
    "---"
   ]
  },
  {
   "cell_type": "markdown",
   "id": "c1fb3933",
   "metadata": {},
   "source": [
    "3. Write a program to solve a classic puzzle: \n",
    "We count 35 heads and 94 legs among the chickens and rabbits in a farm. How many rabbits and how many chickens do we have?"
   ]
  },
  {
   "cell_type": "code",
   "execution_count": 25,
   "id": "a6c07cd3",
   "metadata": {},
   "outputs": [
    {
     "name": "stdout",
     "output_type": "stream",
     "text": [
      "Number of chickens: 11, Number of rabbits: 23\n"
     ]
    }
   ],
   "source": [
    "def solve(heads,legs):\n",
    "    rabbits = legs/4\n",
    "    chikens = heads - rabbits\n",
    "    return print(f\"Number of chickens: {int(chikens)}, Number of rabbits: {int(rabbits)}\")\n",
    "\n",
    "solve(35,94)"
   ]
  },
  {
   "cell_type": "markdown",
   "id": "2c449775",
   "metadata": {},
   "source": [
    "---"
   ]
  },
  {
   "cell_type": "markdown",
   "id": "be851f14",
   "metadata": {},
   "source": [
    "4. You are given list of numbers separated by spaces. Write a function `filter_prime` which will take list of numbers as an agrument and returns only prime numbers from the list."
   ]
  },
  {
   "cell_type": "code",
   "execution_count": 19,
   "id": "902c6b75",
   "metadata": {},
   "outputs": [
    {
     "name": "stdout",
     "output_type": "stream",
     "text": [
      "[2, 4, 6, 2, 1234, 42, 3134]\n"
     ]
    }
   ],
   "source": [
    "def filter_prime(list_numbers):\n",
    "    return [i for i in list_numbers if i%2 == 0]\n",
    "\n",
    "a = 2,4,6,2,3,9,1234,42,3134,65\n",
    "print(filter_prime(a))"
   ]
  },
  {
   "cell_type": "markdown",
   "id": "bf5db825",
   "metadata": {},
   "source": [
    "---"
   ]
  },
  {
   "cell_type": "markdown",
   "id": "2a8c544b",
   "metadata": {},
   "source": [
    "5. Write a function that accepts string from user and print all permutations of that string."
   ]
  },
  {
   "cell_type": "code",
   "execution_count": 22,
   "id": "aeaf0bb6",
   "metadata": {},
   "outputs": [
    {
     "name": "stdout",
     "output_type": "stream",
     "text": [
      "KBTU\n",
      "KBUT\n",
      "KTBU\n",
      "KTUB\n",
      "KUBT\n",
      "KUTB\n",
      "BKTU\n",
      "BKUT\n",
      "BTKU\n",
      "BTUK\n",
      "BUKT\n",
      "BUTK\n",
      "TKBU\n",
      "TKUB\n",
      "TBKU\n",
      "TBUK\n",
      "TUKB\n",
      "TUBK\n",
      "UKBT\n",
      "UKTB\n",
      "UBKT\n",
      "UBTK\n",
      "UTKB\n",
      "UTBK\n"
     ]
    }
   ],
   "source": [
    "from itertools import permutations\n",
    "\n",
    "def string_permutations(string):\n",
    "    perm_list = permutations(string)\n",
    "    for i in perm_list:\n",
    "        print(''.join(i))\n",
    "    \n",
    "    \n",
    "string_permutations(\"KBTU\")"
   ]
  },
  {
   "cell_type": "markdown",
   "id": "4fc46d8e",
   "metadata": {},
   "source": [
    "---"
   ]
  },
  {
   "cell_type": "markdown",
   "id": "e8b91b93",
   "metadata": {},
   "source": [
    "6. Write a function that accepts string from user, return a sentence with the words reversed."
   ]
  },
  {
   "cell_type": "code",
   "execution_count": 24,
   "id": "5f19cf92",
   "metadata": {},
   "outputs": [
    {
     "name": "stdout",
     "output_type": "stream",
     "text": [
      "azzip gnitae ekil I\n"
     ]
    }
   ],
   "source": [
    "def reversed_string(string):\n",
    "    return string[::-1]\n",
    "\n",
    "print(reversed_string(\"I like eating pizza\"))"
   ]
  },
  {
   "cell_type": "markdown",
   "id": "7834e638",
   "metadata": {},
   "source": [
    "---"
   ]
  },
  {
   "cell_type": "markdown",
   "id": "a90cb753",
   "metadata": {},
   "source": [
    "7. Given a list of ints, return True if the array contains a 3 next to a 3 somewhere."
   ]
  },
  {
   "cell_type": "code",
   "execution_count": 32,
   "id": "3e69e9e3",
   "metadata": {},
   "outputs": [
    {
     "name": "stdout",
     "output_type": "stream",
     "text": [
      "True\n",
      "False\n",
      "False\n"
     ]
    }
   ],
   "source": [
    "def has_33(nums):\n",
    "    if 3 in nums:\n",
    "        first_three = nums.index(3)\n",
    "        if nums[first_three+1] == 3:\n",
    "            return True\n",
    "        else:\n",
    "            return False\n",
    "    else:\n",
    "        return False\n",
    "    \n",
    "print(has_33([1, 3, 3]))\n",
    "print(has_33([1, 3, 1, 3]))\n",
    "print(has_33([3, 1, 3]))"
   ]
  },
  {
   "cell_type": "markdown",
   "id": "916960f2",
   "metadata": {},
   "source": [
    "---"
   ]
  },
  {
   "cell_type": "markdown",
   "id": "4a4e5295",
   "metadata": {},
   "source": [
    "8. Write a function that takes in a list of integers and returns True if it contains `007` in order"
   ]
  },
  {
   "cell_type": "code",
   "execution_count": 35,
   "id": "67e2fcc1",
   "metadata": {},
   "outputs": [
    {
     "name": "stdout",
     "output_type": "stream",
     "text": [
      "True\n",
      "True\n",
      "False\n"
     ]
    }
   ],
   "source": [
    "def spy_game(nums):\n",
    "    target = [0, 0, 7]    \n",
    "    for i in nums:\n",
    "        if i == target[0]:\n",
    "            target.pop(0)\n",
    "        if not target:\n",
    "            return True\n",
    "    return False\n",
    "\n",
    "\n",
    "print(spy_game([1, 2, 4, 0, 0, 7, 5]))  \n",
    "print(spy_game([1, 0, 2, 4, 0, 5, 7]))  \n",
    "print(spy_game([1, 7, 2, 0, 4, 5, 0]))  \n"
   ]
  },
  {
   "cell_type": "markdown",
   "id": "b156a4cb",
   "metadata": {},
   "source": [
    "---"
   ]
  },
  {
   "cell_type": "markdown",
   "id": "2fa8215e",
   "metadata": {},
   "source": [
    "9. Write a function that computes the volume of a sphere given its radius."
   ]
  },
  {
   "cell_type": "code",
   "execution_count": 39,
   "id": "4f653509",
   "metadata": {},
   "outputs": [
    {
     "name": "stdout",
     "output_type": "stream",
     "text": [
      "268.0826\n"
     ]
    }
   ],
   "source": [
    "from math import pi\n",
    "\n",
    "def vol_of_sphere(r):\n",
    "    return (4/3)*(pi*r**3)\n",
    "\n",
    "print(round(vol_of_sphere(4),4))"
   ]
  },
  {
   "cell_type": "markdown",
   "id": "e821485a",
   "metadata": {},
   "source": [
    "---"
   ]
  },
  {
   "cell_type": "markdown",
   "id": "cfc6deaa",
   "metadata": {},
   "source": [
    "10. Write a Python function that takes a list and returns a new list with unique elements of the first list. Note: don't use collection `set`."
   ]
  },
  {
   "cell_type": "code",
   "execution_count": 97,
   "id": "10d16737",
   "metadata": {},
   "outputs": [
    {
     "name": "stdout",
     "output_type": "stream",
     "text": [
      "[1, 2, 3, 4, 5]\n",
      "[1]\n",
      "[5, 6, 7, 8, 9]\n"
     ]
    }
   ],
   "source": [
    "def unique_list(list_n):\n",
    "    unique = []\n",
    "    for i in list_n:\n",
    "        if i not in unique:\n",
    "            unique.append(i)\n",
    "    return unique\n",
    "\n",
    "print(unique_list([1, 2, 2, 3, 4, 4, 5]))\n",
    "print(unique_list([1, 1, 1, 1, 1]))\n",
    "print(unique_list([5, 6, 7, 8, 5, 9]))"
   ]
  },
  {
   "cell_type": "markdown",
   "id": "ec5c7eac",
   "metadata": {},
   "source": [
    "---"
   ]
  },
  {
   "cell_type": "markdown",
   "id": "10db60ec",
   "metadata": {},
   "source": [
    "11. Write a Python function that checks whether a word or phrase is `palindrome` or not. Note: A palindrome is word, phrase, or sequence that reads the same backward as forward, e.g., madam"
   ]
  },
  {
   "cell_type": "code",
   "execution_count": 41,
   "id": "6709b57d",
   "metadata": {},
   "outputs": [
    {
     "name": "stdout",
     "output_type": "stream",
     "text": [
      "True\n",
      "True\n",
      "False\n"
     ]
    }
   ],
   "source": [
    "def is_palindrome(text):\n",
    "    palindrome = [i for i in text.lower() if i.isalpha() == True]\n",
    "    return palindrome == palindrome[::-1]\n",
    "\n",
    "\n",
    "txt1 = 'madam'\n",
    "txt2 = 'Standart - smallest, sell Amstrad nats.'\n",
    "txt3 = 'KBTU'\n",
    "\n",
    "print(is_palindrome(txt1))\n",
    "print(is_palindrome(txt2))\n",
    "print(is_palindrome(txt3))"
   ]
  },
  {
   "cell_type": "markdown",
   "id": "07f20fbe",
   "metadata": {},
   "source": [
    "---"
   ]
  },
  {
   "cell_type": "markdown",
   "id": "f3791d9b",
   "metadata": {},
   "source": [
    "12. Define a functino `histogram()` that takes a list of integers and prints a histogram to the screen. For example, `histogram([4, 9, 7])` should print the following:"
   ]
  },
  {
   "cell_type": "code",
   "execution_count": 46,
   "id": "ccd52806",
   "metadata": {},
   "outputs": [
    {
     "name": "stdout",
     "output_type": "stream",
     "text": [
      "****\n",
      "*********\n",
      "*******\n",
      "\n",
      "*\n",
      "************************\n",
      "**\n",
      "*\n",
      "\n",
      "***********************\n",
      "***\n",
      "*****\n"
     ]
    }
   ],
   "source": [
    "def histogram(numbers):\n",
    "    for i in numbers:\n",
    "        print(i*'*')\n",
    "        \n",
    "histogram([4, 9, 7])\n",
    "print()\n",
    "histogram([1,24, 2, 1])\n",
    "print()\n",
    "histogram([23, 3, 5])"
   ]
  },
  {
   "cell_type": "markdown",
   "id": "b5db61d4",
   "metadata": {},
   "source": [
    "---"
   ]
  },
  {
   "cell_type": "markdown",
   "id": "fc5b01f5",
   "metadata": {},
   "source": [
    "13. Write a program able to play the `\"Guess the number\"` - game, where the number to be guessed is randomly chosen between 1 and 20. This is how it should work when run in a terminal:"
   ]
  },
  {
   "cell_type": "code",
   "execution_count": 93,
   "id": "21e9d57d",
   "metadata": {},
   "outputs": [
    {
     "name": "stdout",
     "output_type": "stream",
     "text": [
      "Hello! What is your name?KBTU\n",
      "Well, KBTU, I am thinking of a number between 1 and 20.\n",
      "Take a guess: 5\n",
      "Your guess is too low.\n",
      "Take a guess: 9\n",
      "Your guess is too low.\n",
      "Take a guess: 10\n",
      "Your guess is too low.\n",
      "Take a guess: 20\n",
      "Your guess is too high.\n",
      "Take a guess: 19\n",
      "Your guess is too high.\n",
      "Take a guess: 14\n",
      "Your guess is too low.\n",
      "Take a guess: 17\n",
      "Your guess is too high.\n",
      "Take a guess: 16\n",
      "Your guess is too high.\n",
      "Take a guess: 15\n",
      "Good job, KBTU! You guessed my number in 9 guesses!\n"
     ]
    }
   ],
   "source": [
    "from random import randint\n",
    "\n",
    "def guess_number():\n",
    "    m = randint(1,20)\n",
    "    name = input(\"Hello! What is your name?\")\n",
    "    count=0\n",
    "    \n",
    "    print(f\"Well, {name}, I am thinking of a number between 1 and 20.\")\n",
    "    \n",
    "    while True:\n",
    "        count += 1\n",
    "        n = int(input(\"Take a guess: \"))\n",
    "        if n > m:\n",
    "            print(\"Your guess is too high.\")\n",
    "        elif n < m:\n",
    "            print(\"Your guess is too low.\")\n",
    "        else:\n",
    "            print(f\"Good job, {name}! You guessed my number in {count} guesses!\")\n",
    "            break\n",
    "\n",
    "        \n",
    "guess_number()"
   ]
  },
  {
   "cell_type": "markdown",
   "id": "8b790c1d",
   "metadata": {},
   "source": [
    "# TSIS 3 - functions2\n",
    "Это **#3.2** лабораторная работа по предмету *\"Принципы Программирования 2\".*\n",
    "\n",
    "Студента: **Айбасов Даниал Елнарович**"
   ]
  },
  {
   "cell_type": "code",
   "execution_count": 98,
   "id": "b3d903e1",
   "metadata": {},
   "outputs": [],
   "source": [
    "# Dictionary of movies\n",
    "\n",
    "movies = [\n",
    "{\n",
    "\"name\": \"Usual Suspects\", \n",
    "\"imdb\": 7.0,\n",
    "\"category\": \"Thriller\"\n",
    "},\n",
    "{\n",
    "\"name\": \"Hitman\",\n",
    "\"imdb\": 6.3,\n",
    "\"category\": \"Action\"\n",
    "},\n",
    "{\n",
    "\"name\": \"Dark Knight\",\n",
    "\"imdb\": 9.0,\n",
    "\"category\": \"Adventure\"\n",
    "},\n",
    "{\n",
    "\"name\": \"The Help\",\n",
    "\"imdb\": 8.0,\n",
    "\"category\": \"Drama\"\n",
    "},\n",
    "{\n",
    "\"name\": \"The Choice\",\n",
    "\"imdb\": 6.2,\n",
    "\"category\": \"Romance\"\n",
    "},\n",
    "{\n",
    "\"name\": \"Colonia\",\n",
    "\"imdb\": 7.4,\n",
    "\"category\": \"Romance\"\n",
    "},\n",
    "{\n",
    "\"name\": \"Love\",\n",
    "\"imdb\": 6.0,\n",
    "\"category\": \"Romance\"\n",
    "},\n",
    "{\n",
    "\"name\": \"Bride Wars\",\n",
    "\"imdb\": 5.4,\n",
    "\"category\": \"Romance\"\n",
    "},\n",
    "{\n",
    "\"name\": \"AlphaJet\",\n",
    "\"imdb\": 3.2,\n",
    "\"category\": \"War\"\n",
    "},\n",
    "{\n",
    "\"name\": \"Ringing Crime\",\n",
    "\"imdb\": 4.0,\n",
    "\"category\": \"Crime\"\n",
    "},\n",
    "{\n",
    "\"name\": \"Joking muck\",\n",
    "\"imdb\": 7.2,\n",
    "\"category\": \"Comedy\"\n",
    "},\n",
    "{\n",
    "\"name\": \"What is the name\",\n",
    "\"imdb\": 9.2,\n",
    "\"category\": \"Suspense\"\n",
    "},\n",
    "{\n",
    "\"name\": \"Detective\",\n",
    "\"imdb\": 7.0,\n",
    "\"category\": \"Suspense\"\n",
    "},\n",
    "{\n",
    "\"name\": \"Exam\",\n",
    "\"imdb\": 4.2,\n",
    "\"category\": \"Thriller\"\n",
    "},\n",
    "{\n",
    "\"name\": \"We Two\",\n",
    "\"imdb\": 7.2,\n",
    "\"category\": \"Romance\"\n",
    "}\n",
    "]"
   ]
  },
  {
   "cell_type": "markdown",
   "id": "40402d45",
   "metadata": {},
   "source": [
    "1. Write a function that takes a single movie and returns `True` if its IMDB score is above 5.5\n",
    "\n",
    "2. Write a function that returns a sublist of movies with an IMDB score above 5.5.\n",
    "\n",
    "3. Write a function that takes a category name and returns just those movies under that category.\n",
    "\n",
    "4. Write a function that takes a list of movies and computes the average IMDB score.\n",
    "\n",
    "5. Write a function that takes a category and computes the average IMDB score.\n"
   ]
  },
  {
   "cell_type": "code",
   "execution_count": 99,
   "id": "0e96eb8d",
   "metadata": {},
   "outputs": [
    {
     "name": "stdout",
     "output_type": "stream",
     "text": [
      "False\n"
     ]
    }
   ],
   "source": [
    "# 1. Write a function that takes a single movie and returns True if its IMDB score is above 5.5\n",
    "def imdb_high(movie):\n",
    "    return movie[\"imdb\"] > 5.5\n",
    "\n",
    "print(imdb_high(movies[7]))"
   ]
  },
  {
   "cell_type": "markdown",
   "id": "3b9ec39f",
   "metadata": {},
   "source": [
    "---"
   ]
  },
  {
   "cell_type": "code",
   "execution_count": 100,
   "id": "3c9bf5ac",
   "metadata": {},
   "outputs": [
    {
     "name": "stdout",
     "output_type": "stream",
     "text": [
      "Usual Suspects\n",
      "Hitman\n",
      "Dark Knight\n",
      "The Help\n",
      "The Choice\n",
      "Colonia\n",
      "Love\n",
      "Joking muck\n",
      "What is the name\n",
      "Detective\n",
      "We Two\n"
     ]
    }
   ],
   "source": [
    "# 2. Write a function that returns a sublist of movies with an IMDB score above 5.5.\n",
    "def cool_movies(movies):\n",
    "    return [film for film in movies if film[\"imdb\"]>5.5]\n",
    "\n",
    "high_list = cool_movies(movies)\n",
    "\n",
    "for i in high_list:\n",
    "    print(i[\"name\"])"
   ]
  },
  {
   "cell_type": "markdown",
   "id": "37fb0056",
   "metadata": {},
   "source": [
    "---"
   ]
  },
  {
   "cell_type": "code",
   "execution_count": 101,
   "id": "aa85c2fd",
   "metadata": {},
   "outputs": [
    {
     "name": "stdout",
     "output_type": "stream",
     "text": [
      "Hitman\n"
     ]
    }
   ],
   "source": [
    "# 3. Write a function that takes a category name and returns just those movies under that category.\n",
    "def films_from_category(film, category_n):\n",
    "    return [i for i in film if i[\"category\"] == category_n]\n",
    "\n",
    "action = films_from_category(movies, \"Action\")\n",
    "\n",
    "for j in action:\n",
    "    print(j[\"name\"])"
   ]
  },
  {
   "cell_type": "markdown",
   "id": "b5474c09",
   "metadata": {},
   "source": [
    "---"
   ]
  },
  {
   "cell_type": "code",
   "execution_count": 102,
   "id": "df35d310",
   "metadata": {},
   "outputs": [
    {
     "name": "stdout",
     "output_type": "stream",
     "text": [
      "6.49\n"
     ]
    }
   ],
   "source": [
    "# 4. Write a function that takes a list of movies and computes the average IMDB score.\n",
    "def avg_score(films):\n",
    "    return sum(i[\"imdb\"] for i in films)/len(films)\n",
    "\n",
    "print(round(avg_score(movies),2))"
   ]
  },
  {
   "cell_type": "markdown",
   "id": "fa58e789",
   "metadata": {},
   "source": [
    "---"
   ]
  },
  {
   "cell_type": "code",
   "execution_count": 103,
   "id": "fea7e50f",
   "metadata": {},
   "outputs": [
    {
     "name": "stdout",
     "output_type": "stream",
     "text": [
      "8.1\n"
     ]
    }
   ],
   "source": [
    "# 5. Write a function that takes a category and computes the average IMDB score.\n",
    "def category_rating(movies,category):\n",
    "    films_category = [i for i in movies if i[\"category\"] == category]\n",
    "    return(avg_score(films_category))\n",
    "\n",
    "print(category_rating(movies, \"Suspense\"))"
   ]
  },
  {
   "cell_type": "markdown",
   "id": "9515b45e",
   "metadata": {},
   "source": [
    "---"
   ]
  },
  {
   "cell_type": "markdown",
   "id": "c31dd70d",
   "metadata": {},
   "source": [
    "# TSIS 3.classes\n",
    "Это **#3.3** лабораторная работа по предмету *\"Принципы Программирования 2\".*\n",
    "\n",
    "Студента: **Айбасов Даниал Елнарович**"
   ]
  },
  {
   "cell_type": "markdown",
   "id": "1d2afa00",
   "metadata": {},
   "source": [
    "1. Define a class which has at least two methods:\n",
    "- `getString`: to get a string from console input\n",
    "- `printString`: to print the string in upper case."
   ]
  },
  {
   "cell_type": "code",
   "execution_count": 68,
   "id": "8292286c",
   "metadata": {},
   "outputs": [
    {
     "name": "stdout",
     "output_type": "stream",
     "text": [
      "Enter your sentencei like eating pizza\n",
      "I LIKE EATING PIZZA\n"
     ]
    }
   ],
   "source": [
    "class String_manager:\n",
    "    def __init__(self):\n",
    "        self.text = \"\"\n",
    "    \n",
    "    def getString(self):\n",
    "        self.text = input(\"Enter your sentence\")\n",
    "    \n",
    "    def printString(self):\n",
    "        print(self.text.upper())\n",
    "        \n",
    "test = String_manager()\n",
    "test.getString()\n",
    "test.printString()"
   ]
  },
  {
   "cell_type": "markdown",
   "id": "c5280838",
   "metadata": {},
   "source": [
    "---"
   ]
  },
  {
   "cell_type": "markdown",
   "id": "eec0114a",
   "metadata": {},
   "source": [
    "2. Define a class named `Shape` and its subclass `Square`. The `Square` class has an `init` function which takes a `length` as argument. Both classes have a `area` function which can print the area of the shape where Shape's area is 0 by default."
   ]
  },
  {
   "cell_type": "code",
   "execution_count": 71,
   "id": "2a452113",
   "metadata": {},
   "outputs": [
    {
     "name": "stdout",
     "output_type": "stream",
     "text": [
      "Shape area: 0\n",
      "Square are: 361\n"
     ]
    }
   ],
   "source": [
    "class Shape:\n",
    "    def __init__(self):\n",
    "        pass \n",
    "    \n",
    "    def area(self):\n",
    "        return 0\n",
    "    \n",
    "    \n",
    "class Square(Shape):\n",
    "    def __init__(self,length):\n",
    "        self.length = length\n",
    "        \n",
    "    def area(self):\n",
    "        return self.length**2\n",
    "    \n",
    "shape = Shape()\n",
    "print(f\"Shape area: {shape.area()}\")\n",
    "\n",
    "square = Square(19)\n",
    "print(f\"Square are: {square.area()}\")"
   ]
  },
  {
   "cell_type": "markdown",
   "id": "38d2c7be",
   "metadata": {},
   "source": [
    "---"
   ]
  },
  {
   "cell_type": "markdown",
   "id": "dcee55a2",
   "metadata": {},
   "source": [
    "3. Define a class named `Rectangle` which inherits from `Shape` class from task 2. Class instance can be constructed by a `length` and `width`. The `Rectangle` class has a method which can compute the `area`."
   ]
  },
  {
   "cell_type": "code",
   "execution_count": 73,
   "id": "a5321b43",
   "metadata": {},
   "outputs": [
    {
     "data": {
      "text/plain": [
       "40"
      ]
     },
     "execution_count": 73,
     "metadata": {},
     "output_type": "execute_result"
    }
   ],
   "source": [
    "class Rectangle(Shape):\n",
    "    def __init__(self, length, width):\n",
    "        self.length = length\n",
    "        self.width = width\n",
    "        \n",
    "    def area(self):\n",
    "        return self.length * self.width\n",
    "    \n",
    "rectangle = Rectangle(10,4)\n",
    "rectangle.area()"
   ]
  },
  {
   "cell_type": "markdown",
   "id": "c71db7ce",
   "metadata": {},
   "source": [
    "---"
   ]
  },
  {
   "cell_type": "markdown",
   "id": "064be50d",
   "metadata": {},
   "source": [
    "4. Write the definition of a Point class. Objects from this class should have a\n",
    "    - a method `show` to display the coordinates of the point\n",
    "    - a method `move` to change these coordinates\n",
    "    - a method `dist` that computes the distance between 2 points"
   ]
  },
  {
   "cell_type": "code",
   "execution_count": 88,
   "id": "1ab7185c",
   "metadata": {},
   "outputs": [
    {
     "name": "stdout",
     "output_type": "stream",
     "text": [
      "Coordinates: (8; 2)\n",
      "Coordinates: (14; 4)\n",
      "Distance: 20.0\n",
      "Coordinates: (7; 8)\n"
     ]
    }
   ],
   "source": [
    "class Point:\n",
    "    def __init__(self, x=0, y=0):\n",
    "        self.x = x\n",
    "        self.y = y\n",
    "    \n",
    "    def show(self):\n",
    "        print(f\"Coordinates: ({self.x}; {self.y})\")\n",
    "        \n",
    "    def move(self, x, y):\n",
    "        self.x = x\n",
    "        self.y = y\n",
    "    \n",
    "    def dist(self,a_point):\n",
    "        return ((self.x - a_point.x)**2 + (self.y - a_point.y)**2)**1/2\n",
    "\n",
    "    \n",
    "point1,point2 = Point(8, 2), Point(14, 4)\n",
    "\n",
    "point1.show()\n",
    "point2.show()\n",
    "\n",
    "print(f\"Distance: {point1.dist(point2)}\")\n",
    "\n",
    "point1.move(7, 8)\n",
    "point1.show()\n",
    "        \n",
    "        "
   ]
  },
  {
   "cell_type": "markdown",
   "id": "c5bdf2b8",
   "metadata": {},
   "source": [
    "---"
   ]
  },
  {
   "cell_type": "markdown",
   "id": "f7a8ff3d",
   "metadata": {},
   "source": [
    "5. Create a bank account class that has attributes `owner`, `balance` and two methods `deposit` and `withdraw`. Withdrawals may not exceed the available balance. Instantiate your class, make several deposits and withdrawals, and test to make sure the account can't be overdrawn."
   ]
  },
  {
   "cell_type": "code",
   "execution_count": 99,
   "id": "890df243",
   "metadata": {},
   "outputs": [
    {
     "name": "stdout",
     "output_type": "stream",
     "text": [
      "Owner: Danial\n",
      "Initial balance: 1000\n",
      "\n",
      "You added: 500. New balance: 1500\n",
      "You took: 200. New balance: 1300\n",
      "No money, no honey :(\n"
     ]
    }
   ],
   "source": [
    "class Account:\n",
    "    def __init__(self, owner, balance = 0):\n",
    "        self.owner = owner\n",
    "        self.balance = balance\n",
    "        \n",
    "    def deposit(self,money):\n",
    "        self.balance += money\n",
    "        print(f\"You added: {money}. New balance: {self.balance}\")\n",
    "    \n",
    "    def withdraw(self, money):\n",
    "        if money > self.balance:\n",
    "            print(\"No money, no honey :(\")\n",
    "        else:\n",
    "            self.balance -= money\n",
    "            print(f\"You took: {money}. New balance: {self.balance}\")\n",
    "\n",
    "acc = Account(\"Danial\", 1000)\n",
    "\n",
    "print(f\"Owner: {acc.owner}\")\n",
    "print(f\"Initial balance: {acc.balance}\")\n",
    "print()\n",
    "acc.deposit(500)\n",
    "acc.withdraw(200)\n",
    "acc.withdraw(2000)  "
   ]
  },
  {
   "cell_type": "markdown",
   "id": "0d291410",
   "metadata": {},
   "source": [
    "---"
   ]
  },
  {
   "cell_type": "markdown",
   "id": "c5422bf3",
   "metadata": {},
   "source": [
    "6. Write a program which can filter prime numbers in a list by using `filter` function.\n",
    "Note: Use `lambda` to define anonymous functions.\n"
   ]
  },
  {
   "cell_type": "code",
   "execution_count": 90,
   "id": "2e6f98fb",
   "metadata": {},
   "outputs": [
    {
     "name": "stdout",
     "output_type": "stream",
     "text": [
      "2\t4\t6\t8\t10\t12\t14\t16\t18\t20\t22\t24\t26\t28\t30\t32\t34\t36\t38\t40\t42\t44\t46\t48\t50\t52\t54\t56\t58\t60\t62\t64\t66\t68\t70\t72\t74\t76\t78\t80\t82\t84\t86\t88\t90\t92\t94\t96\t98\t100\n"
     ]
    }
   ],
   "source": [
    "numbers = list(range(1,101))\n",
    "even_numbers = list(filter(lambda x: x % 1 == x and , numbers))\n",
    "print(*even_numbers,sep = '\\t')  "
   ]
  }
 ],
 "metadata": {
  "kernelspec": {
   "display_name": "Python 3 (ipykernel)",
   "language": "python",
   "name": "python3"
  },
  "language_info": {
   "codemirror_mode": {
    "name": "ipython",
    "version": 3
   },
   "file_extension": ".py",
   "mimetype": "text/x-python",
   "name": "python",
   "nbconvert_exporter": "python",
   "pygments_lexer": "ipython3",
   "version": "3.11.5"
  }
 },
 "nbformat": 4,
 "nbformat_minor": 5
}
