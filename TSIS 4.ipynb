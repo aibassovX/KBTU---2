{
 "cells": [
  {
   "cell_type": "markdown",
   "id": "42b94882",
   "metadata": {},
   "source": [
    "# TSIS 4.1 - generator\n",
    "\n",
    "Это **#4.1** лабораторная работа по предмету *\"Принципы Программирования 2\".*\n",
    "\n",
    "Студента: **Айбасов Даниал Елнарович**"
   ]
  },
  {
   "cell_type": "markdown",
   "id": "f7218f5a",
   "metadata": {},
   "source": [
    "## Python iterators and generators\n",
    "\n",
    "1. Create a generator that generates the squares of numbers up to some number `N`.\n",
    "\n",
    "2. Write a program using generator to print the even numbers between 0 and `n` in comma separated form where `n` is input from console.\n",
    "\n",
    "3. Define a function with a generator which can iterate the numbers, which are divisible by 3 and 4, between a given range 0 and `n`.\n",
    "\n",
    "4. Implement a generator called `squares` to yield the square of all numbers from (a) to (b). Test it with a \"for\" loop and print each of the yielded values.\n",
    "\n",
    "5. Implement a generator that returns all numbers from (n) down to 0.\n",
    "\n",
    "\n",
    "\n",
    "\n"
   ]
  },
  {
   "cell_type": "markdown",
   "id": "0a628a71",
   "metadata": {},
   "source": [
    "1. Create a generator that generates the squares of numbers up to some number N."
   ]
  },
  {
   "cell_type": "code",
   "execution_count": 1,
   "id": "8d1a4705",
   "metadata": {},
   "outputs": [
    {
     "name": "stdout",
     "output_type": "stream",
     "text": [
      "5\n",
      "1\n",
      "4\n",
      "9\n",
      "16\n",
      "25\n"
     ]
    }
   ],
   "source": [
    "n = int(input())\n",
    "square_gen = (i**2 for i in range(1,n+1))\n",
    "for j in square_gen:\n",
    "    print(j)"
   ]
  },
  {
   "cell_type": "markdown",
   "id": "021ad289",
   "metadata": {},
   "source": [
    "---"
   ]
  },
  {
   "cell_type": "markdown",
   "id": "0650652a",
   "metadata": {},
   "source": [
    "2. Write a program using generator to print the even numbers between 0 and n in comma separated form where n is input from console."
   ]
  },
  {
   "cell_type": "code",
   "execution_count": 2,
   "id": "939b2f06",
   "metadata": {},
   "outputs": [
    {
     "name": "stdout",
     "output_type": "stream",
     "text": [
      "10\n",
      "0, 2, 4, 6, 8, 10, "
     ]
    }
   ],
   "source": [
    "n = int(input())\n",
    "even_num = (i for i in range(n+1) if i%2 == 0)\n",
    "\n",
    "\n",
    "for j in even_num:\n",
    "    print(j,end=\", \")"
   ]
  },
  {
   "cell_type": "markdown",
   "id": "376be89e",
   "metadata": {},
   "source": [
    "---"
   ]
  },
  {
   "cell_type": "markdown",
   "id": "7e2e3f6b",
   "metadata": {},
   "source": [
    "3. Define a function with a generator which can iterate the numbers, which are divisible by 3 and 4, between a given range 0 and n."
   ]
  },
  {
   "cell_type": "code",
   "execution_count": 3,
   "id": "4fe924e5",
   "metadata": {},
   "outputs": [
    {
     "name": "stdout",
     "output_type": "stream",
     "text": [
      "5\n",
      "0\n"
     ]
    }
   ],
   "source": [
    "def iterator(num):\n",
    "    for i in range(num+1):\n",
    "        if i%12 == 0:\n",
    "            yield i\n",
    "        \n",
    "n = int(input())\n",
    "gen = iterator(n)\n",
    "\n",
    "for j in gen:\n",
    "    print(j)"
   ]
  },
  {
   "cell_type": "markdown",
   "id": "f7b23389",
   "metadata": {},
   "source": [
    "---"
   ]
  },
  {
   "cell_type": "markdown",
   "id": "d7366804",
   "metadata": {},
   "source": [
    "4. Implement a generator called `squares` to yield the square of all numbers from (a) to (b). Test it with a \"for\" loop and print each of the yielded values."
   ]
  },
  {
   "cell_type": "code",
   "execution_count": 18,
   "id": "745891db",
   "metadata": {},
   "outputs": [
    {
     "name": "stdout",
     "output_type": "stream",
     "text": [
      "1\n",
      "14\n",
      "Квадраты чисел от a до b(включительно):\n",
      "1 4 9 16 25 36 49 64 81 100 121 144 169 196 "
     ]
    }
   ],
   "source": [
    "a,b = int(input()),int(input())\n",
    "\n",
    "sqr_a_b = (i**2 for i in range(a,b+1))\n",
    "print(\"Квадраты чисел от a до b(включительно):\")\n",
    "for j in sqr_a_b:\n",
    "    print(j,end=\" \")"
   ]
  },
  {
   "cell_type": "markdown",
   "id": "62e09372",
   "metadata": {},
   "source": [
    "---"
   ]
  },
  {
   "cell_type": "markdown",
   "id": "1ccc2517",
   "metadata": {},
   "source": [
    "5. Implement a generator that returns all numbers from (n) down to 0."
   ]
  },
  {
   "cell_type": "code",
   "execution_count": 5,
   "id": "4d77ebf9",
   "metadata": {},
   "outputs": [
    {
     "name": "stdout",
     "output_type": "stream",
     "text": [
      "5\n",
      "5 4 3 2 1 "
     ]
    }
   ],
   "source": [
    "n = int(input())\n",
    "\n",
    "up_down = (i for i in range(n,0,-1))\n",
    "\n",
    "for j in up_down:\n",
    "    print(j,end = \" \")"
   ]
  },
  {
   "cell_type": "markdown",
   "id": "ed3ea38b",
   "metadata": {},
   "source": [
    "# TSIS 4.2 - date\n",
    "\n",
    "Это **#4.1** лабораторная работа по предмету *\"Принципы Программирования 2\".*\n",
    "\n",
    "Студента: **Айбасов Даниал Елнарович**"
   ]
  },
  {
   "cell_type": "markdown",
   "id": "e9a7d70b",
   "metadata": {},
   "source": [
    "## Python date\n",
    "\n",
    "1. Write a Python program to subtract five days from current date.\n",
    "\n",
    "2. Write a Python program to print yesterday, today, tomorrow.\n",
    "\n",
    "3. Write a Python program to drop microseconds from datetime.\n",
    "\n",
    "4. Write a Python program to calculate two date difference in seconds.\n"
   ]
  },
  {
   "cell_type": "code",
   "execution_count": 6,
   "id": "096ca23b",
   "metadata": {},
   "outputs": [],
   "source": [
    "import datetime as dt"
   ]
  },
  {
   "cell_type": "markdown",
   "id": "8a42e981",
   "metadata": {},
   "source": [
    "1. Write a Python program to subtract five days from current date."
   ]
  },
  {
   "cell_type": "code",
   "execution_count": 7,
   "id": "d6288dbf",
   "metadata": {},
   "outputs": [
    {
     "name": "stdout",
     "output_type": "stream",
     "text": [
      "Date after subtracting 5 days: 2024-09-26\n"
     ]
    }
   ],
   "source": [
    "now = dt.datetime.now()\n",
    "new_date = now - dt.timedelta(days = 5)\n",
    "\n",
    "print(\"Date after subtracting 5 days:\", new_date.strftime(\"%Y-%m-%d\"))"
   ]
  },
  {
   "cell_type": "markdown",
   "id": "4dec9fef",
   "metadata": {},
   "source": [
    "---"
   ]
  },
  {
   "cell_type": "markdown",
   "id": "1cda17b8",
   "metadata": {},
   "source": [
    "2. Write a Python program to print yesterday, today, tomorrow."
   ]
  },
  {
   "cell_type": "code",
   "execution_count": 8,
   "id": "b11da594",
   "metadata": {},
   "outputs": [
    {
     "name": "stdout",
     "output_type": "stream",
     "text": [
      "Yesterday is 2024-09-30\n",
      "Today is: 2024-10-01\n",
      "Tomorrow is: 2024-10-02\n"
     ]
    }
   ],
   "source": [
    "now = dt.datetime.now()\n",
    "\n",
    "yesterday = now-dt.timedelta(days=1)\n",
    "tomorrow = now+dt.timedelta(days=1)\n",
    "\n",
    "print(\"Yesterday is\", yesterday.strftime(\"%Y-%m-%d\"))\n",
    "print(\"Today is:\", now.strftime(\"%Y-%m-%d\"))\n",
    "print(\"Tomorrow is:\", tomorrow.strftime(\"%Y-%m-%d\"))"
   ]
  },
  {
   "cell_type": "markdown",
   "id": "993501cd",
   "metadata": {},
   "source": [
    "---"
   ]
  },
  {
   "cell_type": "markdown",
   "id": "1c3be9f4",
   "metadata": {},
   "source": [
    "3. Write a Python program to drop microseconds from datetime."
   ]
  },
  {
   "cell_type": "code",
   "execution_count": 9,
   "id": "0a2ffd80",
   "metadata": {},
   "outputs": [
    {
     "name": "stdout",
     "output_type": "stream",
     "text": [
      "Current datetime with microseconds: 2024-10-01 11:18:58.808655\n",
      "Datetime without microseconds: 2024-10-01 11:18:58\n"
     ]
    }
   ],
   "source": [
    "now = dt.datetime.now()\n",
    "\n",
    "datetime_no_microseconds = now.replace(microsecond=0)\n",
    "\n",
    "print(\"Current datetime with microseconds:\", now)\n",
    "print(\"Datetime without microseconds:\", datetime_no_microseconds)\n"
   ]
  },
  {
   "cell_type": "markdown",
   "id": "641ba80e",
   "metadata": {},
   "source": [
    "---"
   ]
  },
  {
   "cell_type": "markdown",
   "id": "1a331b3d",
   "metadata": {},
   "source": [
    "4. Write a Python program to calculate two date difference in seconds."
   ]
  },
  {
   "cell_type": "code",
   "execution_count": 42,
   "id": "be733075",
   "metadata": {},
   "outputs": [
    {
     "name": "stdout",
     "output_type": "stream",
     "text": [
      "Enter the target date and time in the format 'YYYY-MM-DD HH:MM:SS': 2025-04-13 14:52:41\n",
      "The difference in seconds between the current date and the target date is: 16773325 seconds\n"
     ]
    }
   ],
   "source": [
    "from datetime import datetime\n",
    "\n",
    "def calculate_seconds_difference(target_date):\n",
    "    current_date = datetime.now()\n",
    "    \n",
    "    difference = target_date - current_date\n",
    "    difference_in_seconds = int(difference.total_seconds())\n",
    "    \n",
    "    return abs(difference_in_seconds)\n",
    "\n",
    "def main():\n",
    "    user_input = input(\"Enter the target date and time in the format 'YYYY-MM-DD HH:MM:SS': \")\n",
    "    try:\n",
    "        target_date = datetime.strptime(user_input, \"%Y-%m-%d %H:%M:%S\")        \n",
    "        difference_in_seconds = calculate_seconds_difference(target_date)\n",
    "        print(f\"The difference in seconds between 2 dates is: {difference_in_seconds} seconds\")\n",
    "    except ValueError:\n",
    "        print(\"Invalid date format. Please make sure you use 'YYYY-MM-DD HH:MM:SS' format.\")\n",
    "\n",
    "if __name__ == \"__main__\":\n",
    "     main()\n",
    "\n",
    "    "
   ]
  },
  {
   "cell_type": "markdown",
   "id": "3608e4ba",
   "metadata": {},
   "source": [
    "# TSIS 4.3 - math\n",
    "\n",
    "Это **#4.3** лабораторная работа по предмету *\"Принципы Программирования 2\".*\n",
    "\n",
    "Студента: **Айбасов Даниал Елнарович**\n",
    "\n",
    "## Python Math library\n",
    "\n",
    "1. Write a Python program to convert degree to radian.\n",
    "```\n",
    "Input degree: 15\n",
    "Output radian: 0.261904\n",
    "```\n",
    "\n",
    "2. Write a Python program to calculate the area of a trapezoid.\n",
    "```\n",
    "Height: 5\n",
    "Base, first value: 5\n",
    "Base, second value: 6\n",
    "Expected Output: 27.5\n",
    "```\n",
    "\n",
    "3. Write a Python program to calculate the area of regular polygon.\n",
    "```\n",
    "Input number of sides: 4\n",
    "Input the length of a side: 25\n",
    "The area of the polygon is: 625\n",
    "```\n",
    "\n",
    "4. Write a Python program to calculate the area of a parallelogram. \n",
    "```\n",
    "Length of base: 5\n",
    "Height of parallelogram: 6\n",
    "Expected Output: 30.0\n",
    "```"
   ]
  },
  {
   "cell_type": "code",
   "execution_count": 11,
   "id": "52324b12",
   "metadata": {},
   "outputs": [],
   "source": [
    "import math"
   ]
  },
  {
   "cell_type": "markdown",
   "id": "c03266c8",
   "metadata": {},
   "source": [
    "1. Write a Python program to convert degree to radian."
   ]
  },
  {
   "cell_type": "code",
   "execution_count": 12,
   "id": "a93d65a1",
   "metadata": {},
   "outputs": [
    {
     "name": "stdout",
     "output_type": "stream",
     "text": [
      "40\n",
      "0.698132\n"
     ]
    }
   ],
   "source": [
    "degree = int(input())\n",
    "print(round(math.radians(degree),6))"
   ]
  },
  {
   "cell_type": "markdown",
   "id": "2457ef22",
   "metadata": {},
   "source": [
    "---"
   ]
  },
  {
   "cell_type": "markdown",
   "id": "a4d6a8ce",
   "metadata": {},
   "source": [
    "2. Write a Python program to calculate the area of a trapezoid."
   ]
  },
  {
   "cell_type": "code",
   "execution_count": 13,
   "id": "0b7ae4f1",
   "metadata": {},
   "outputs": [
    {
     "name": "stdout",
     "output_type": "stream",
     "text": [
      "Enter the height: 12\n",
      "Enter the first base: 4\n",
      "Enter the second base: 6\n",
      "60.0\n"
     ]
    }
   ],
   "source": [
    "h, b1, b2 = float(input(\"Enter the height: \")),float(input(\"Enter the first base: \")),float(input(\"Enter the second base: \"))\n",
    "print((b1+b2)*h*1/2 )"
   ]
  },
  {
   "cell_type": "markdown",
   "id": "b80e3a78",
   "metadata": {},
   "source": [
    "---"
   ]
  },
  {
   "cell_type": "markdown",
   "id": "7c615d1c",
   "metadata": {},
   "source": [
    "3. Write a Python program to calculate the area of regular polygon."
   ]
  },
  {
   "cell_type": "code",
   "execution_count": 14,
   "id": "2148ebc3",
   "metadata": {},
   "outputs": [
    {
     "name": "stdout",
     "output_type": "stream",
     "text": [
      "Enter the number of side: 5\n",
      "Enter the legth of a side: 40\n",
      "Area of polygon: 258.0488365589943\n"
     ]
    }
   ],
   "source": [
    "n, s = int(input(\"Enter the number of side: \")), float(input(\"Enter the legth of a side: \"))\n",
    "a = s/(2*(math.tan(180/n)))\n",
    "print(f\"Area of polygon: {n*s*a*1/2}\")"
   ]
  },
  {
   "cell_type": "markdown",
   "id": "49df0f58",
   "metadata": {},
   "source": [
    "---"
   ]
  },
  {
   "cell_type": "markdown",
   "id": "18942ef3",
   "metadata": {},
   "source": [
    "4. Write a Python program to calculate the area of a parallelogram."
   ]
  },
  {
   "cell_type": "code",
   "execution_count": 15,
   "id": "66ce513a",
   "metadata": {},
   "outputs": [
    {
     "name": "stdout",
     "output_type": "stream",
     "text": [
      "Enter the length of parallelogram: 5\n",
      "Enter the height of parallelogram: 5\n",
      "Area: 25.0\n"
     ]
    }
   ],
   "source": [
    "l,h = float(input(\"Enter the length of parallelogram: \")),float(input(\"Enter the height of parallelogram: \"))\n",
    "print(f\"Area: {l*h}\")"
   ]
  },
  {
   "cell_type": "markdown",
   "id": "8c5d4c99",
   "metadata": {},
   "source": [
    "# TSIS 4.3 - Json\n",
    "\n",
    "Это **#4.4** лабораторная работа по предмету *\"Принципы Программирования 2\".*\n",
    "\n",
    "Студента: **Айбасов Даниал Елнарович**"
   ]
  },
  {
   "cell_type": "code",
   "execution_count": 40,
   "id": "358cf952",
   "metadata": {},
   "outputs": [],
   "source": [
    "import json\n",
    "\n",
    "with open('sample-data.json', 'r') as file:\n",
    "    data = json.load(file)"
   ]
  },
  {
   "cell_type": "code",
   "execution_count": 39,
   "id": "34591464",
   "metadata": {},
   "outputs": [],
   "source": [
    "interfaces_glob = data['imdata']"
   ]
  },
  {
   "cell_type": "code",
   "execution_count": 26,
   "id": "9c929d62",
   "metadata": {},
   "outputs": [
    {
     "name": "stdout",
     "output_type": "stream",
     "text": [
      "Interface Status\n",
      "DN                                                      Description          Speed      MTU\n",
      "-----------------------------------------------------------------------------------------------\n"
     ]
    }
   ],
   "source": [
    "print(\"Interface Status\")\n",
    "print(f\"{'DN':<55} {'Description':<20} {'Speed':<10} {'MTU'}\")\n",
    "print('-' * 95)"
   ]
  },
  {
   "cell_type": "markdown",
   "id": "b8944490",
   "metadata": {},
   "source": [
    "---"
   ]
  },
  {
   "cell_type": "markdown",
   "id": "ca4ad92d",
   "metadata": {},
   "source": [
    "---"
   ]
  },
  {
   "cell_type": "code",
   "execution_count": 43,
   "id": "9c7560a6",
   "metadata": {},
   "outputs": [
    {
     "name": "stdout",
     "output_type": "stream",
     "text": [
      "Interface Status\n",
      "DN                                                      Description          Speed      MTU\n",
      "-----------------------------------------------------------------------------------------------\n",
      "topology/pod-1/node-201/sys/phys-[eth1/33]              N/A                  inherit    9150\n",
      "topology/pod-1/node-201/sys/phys-[eth1/34]              N/A                  inherit    9150\n",
      "topology/pod-1/node-201/sys/phys-[eth1/35]              N/A                  inherit    9150\n",
      "topology/pod-1/node-201/sys/phys-[eth1/36]              N/A                  inherit    9150\n",
      "topology/pod-1/node-201/sys/phys-[eth1/1]               N/A                  inherit    9150\n",
      "topology/pod-1/node-201/sys/phys-[eth1/2]               N/A                  inherit    9150\n",
      "topology/pod-1/node-201/sys/phys-[eth1/3]               N/A                  inherit    9150\n",
      "topology/pod-1/node-201/sys/phys-[eth1/4]               N/A                  inherit    9150\n",
      "topology/pod-1/node-201/sys/phys-[eth1/5]               N/A                  inherit    9150\n",
      "topology/pod-1/node-201/sys/phys-[eth1/6]               N/A                  inherit    9150\n",
      "topology/pod-1/node-201/sys/phys-[eth1/7]               N/A                  inherit    9150\n",
      "topology/pod-1/node-201/sys/phys-[eth1/8]               N/A                  inherit    9150\n",
      "topology/pod-1/node-201/sys/phys-[eth1/9]               N/A                  inherit    9150\n",
      "topology/pod-1/node-201/sys/phys-[eth1/10]              N/A                  inherit    9150\n",
      "topology/pod-1/node-201/sys/phys-[eth1/11]              N/A                  inherit    9150\n",
      "topology/pod-1/node-201/sys/phys-[eth1/12]              N/A                  inherit    9150\n",
      "topology/pod-1/node-201/sys/phys-[eth1/13]              N/A                  inherit    9150\n",
      "topology/pod-1/node-201/sys/phys-[eth1/14]              N/A                  inherit    9150\n"
     ]
    }
   ],
   "source": [
    "print(\"Interface Status\")\n",
    "print(f\"{'DN':<55} {'Description':<20} {'Speed':<10} {'MTU'}\")\n",
    "print('-' * 95)\n",
    "\n",
    "for i in interfaces_glob:\n",
    "    attributes = i['l1PhysIf']['attributes']\n",
    "    dn = attributes.get('dn', '')\n",
    "    descr = attributes.get('descr', '') or 'N/A'\n",
    "    speed = attributes.get('speed', '')\n",
    "    mtu = attributes.get('mtu', '')\n",
    "    print(f\"{dn:<55} {descr:<20} {speed:<10} {mtu}\")"
   ]
  }
 ],
 "metadata": {
  "kernelspec": {
   "display_name": "Python 3 (ipykernel)",
   "language": "python",
   "name": "python3"
  },
  "language_info": {
   "codemirror_mode": {
    "name": "ipython",
    "version": 3
   },
   "file_extension": ".py",
   "mimetype": "text/x-python",
   "name": "python",
   "nbconvert_exporter": "python",
   "pygments_lexer": "ipython3",
   "version": "3.11.5"
  }
 },
 "nbformat": 4,
 "nbformat_minor": 5
}
